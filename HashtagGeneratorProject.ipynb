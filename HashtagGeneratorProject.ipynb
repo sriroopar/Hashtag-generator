{
  "nbformat": 4,
  "nbformat_minor": 0,
  "metadata": {
    "accelerator": "GPU",
    "colab": {
      "name": "HashtagGeneratorProject.ipynb",
      "provenance": [],
      "collapsed_sections": []
    },
    "kernelspec": {
      "display_name": "Python 3",
      "name": "python3"
    },
    "language_info": {
      "name": "python"
    }
  },
  "cells": [
    {
      "cell_type": "code",
      "metadata": {
        "colab": {
          "base_uri": "https://localhost:8080/"
        },
        "id": "TmibimxE9rQ3",
        "outputId": "47c6c651-15b7-4cc8-9aaf-f51ca5c4785c"
      },
      "source": [
        "!gdown --id 10j65AwoGzzd2lp8bReWoDxNc_OgBX4nG"
      ],
      "execution_count": null,
      "outputs": [
        {
          "output_type": "stream",
          "text": [
            "Downloading...\n",
            "From: https://drive.google.com/uc?id=10j65AwoGzzd2lp8bReWoDxNc_OgBX4nG\n",
            "To: /content/Finalmodel.zip\n",
            "55.9MB [00:00, 64.5MB/s]\n"
          ],
          "name": "stdout"
        }
      ]
    },
    {
      "cell_type": "code",
      "metadata": {
        "colab": {
          "base_uri": "https://localhost:8080/"
        },
        "id": "KHj6sket3WlZ",
        "outputId": "2878ace8-5ce2-4e9a-8158-52c512d5c98a"
      },
      "source": [
        "!unzip '/content/Finalmodel.zip'"
      ],
      "execution_count": null,
      "outputs": [
        {
          "output_type": "stream",
          "text": [
            "Archive:  /content/Finalmodel.zip\n",
            "   creating: Finalmodel/image-captioning-keras-resnet/\n",
            "   creating: Finalmodel/image-captioning-keras-resnet/.git/\n",
            "   creating: Finalmodel/image-captioning-keras-resnet/.git/branches/\n",
            "  inflating: Finalmodel/image-captioning-keras-resnet/.git/config  \n",
            "  inflating: Finalmodel/image-captioning-keras-resnet/.git/description  \n",
            " extracting: Finalmodel/image-captioning-keras-resnet/.git/HEAD  \n",
            "   creating: Finalmodel/image-captioning-keras-resnet/.git/hooks/\n",
            "  inflating: Finalmodel/image-captioning-keras-resnet/.git/hooks/applypatch-msg.sample  \n",
            "  inflating: Finalmodel/image-captioning-keras-resnet/.git/hooks/commit-msg.sample  \n",
            "  inflating: Finalmodel/image-captioning-keras-resnet/.git/hooks/fsmonitor-watchman.sample  \n",
            "  inflating: Finalmodel/image-captioning-keras-resnet/.git/hooks/post-update.sample  \n",
            "  inflating: Finalmodel/image-captioning-keras-resnet/.git/hooks/pre-applypatch.sample  \n",
            "  inflating: Finalmodel/image-captioning-keras-resnet/.git/hooks/pre-commit.sample  \n",
            "  inflating: Finalmodel/image-captioning-keras-resnet/.git/hooks/prepare-commit-msg.sample  \n",
            "  inflating: Finalmodel/image-captioning-keras-resnet/.git/hooks/pre-push.sample  \n",
            "  inflating: Finalmodel/image-captioning-keras-resnet/.git/hooks/pre-rebase.sample  \n",
            "  inflating: Finalmodel/image-captioning-keras-resnet/.git/hooks/pre-receive.sample  \n",
            "  inflating: Finalmodel/image-captioning-keras-resnet/.git/hooks/update.sample  \n",
            "  inflating: Finalmodel/image-captioning-keras-resnet/.git/index  \n",
            "   creating: Finalmodel/image-captioning-keras-resnet/.git/info/\n",
            "  inflating: Finalmodel/image-captioning-keras-resnet/.git/info/exclude  \n",
            "   creating: Finalmodel/image-captioning-keras-resnet/.git/logs/\n",
            "  inflating: Finalmodel/image-captioning-keras-resnet/.git/logs/HEAD  \n",
            "   creating: Finalmodel/image-captioning-keras-resnet/.git/logs/refs/\n",
            "   creating: Finalmodel/image-captioning-keras-resnet/.git/logs/refs/heads/\n",
            "  inflating: Finalmodel/image-captioning-keras-resnet/.git/logs/refs/heads/main  \n",
            "   creating: Finalmodel/image-captioning-keras-resnet/.git/logs/refs/remotes/\n",
            "   creating: Finalmodel/image-captioning-keras-resnet/.git/logs/refs/remotes/origin/\n",
            "  inflating: Finalmodel/image-captioning-keras-resnet/.git/logs/refs/remotes/origin/HEAD  \n",
            "   creating: Finalmodel/image-captioning-keras-resnet/.git/objects/\n",
            "   creating: Finalmodel/image-captioning-keras-resnet/.git/objects/14/\n",
            " extracting: Finalmodel/image-captioning-keras-resnet/.git/objects/14/894f80e57ce98120bb6c9d3211cdd6b5e045bf  \n",
            "   creating: Finalmodel/image-captioning-keras-resnet/.git/objects/17/\n",
            " extracting: Finalmodel/image-captioning-keras-resnet/.git/objects/17/5803d4f23727d3d0f7dda49e76b1fffadc63ba  \n",
            "   creating: Finalmodel/image-captioning-keras-resnet/.git/objects/19/\n",
            " extracting: Finalmodel/image-captioning-keras-resnet/.git/objects/19/ff89edf3dcb5834e21b89805c0943074e53db7  \n",
            "   creating: Finalmodel/image-captioning-keras-resnet/.git/objects/1b/\n",
            " extracting: Finalmodel/image-captioning-keras-resnet/.git/objects/1b/96f26c63b5be12e3a0155dd9e640ba817bd63f  \n",
            "   creating: Finalmodel/image-captioning-keras-resnet/.git/objects/31/\n",
            " extracting: Finalmodel/image-captioning-keras-resnet/.git/objects/31/de522454b65e963e5f8185c28b025635ab08b3  \n",
            "   creating: Finalmodel/image-captioning-keras-resnet/.git/objects/39/\n",
            " extracting: Finalmodel/image-captioning-keras-resnet/.git/objects/39/43dfe54e74743feb29ff0f0923e78dc281b9c6  \n",
            "   creating: Finalmodel/image-captioning-keras-resnet/.git/objects/44/\n",
            " extracting: Finalmodel/image-captioning-keras-resnet/.git/objects/44/3778d9b0dfa6c321372321e4c5a6165ba2269c  \n",
            "   creating: Finalmodel/image-captioning-keras-resnet/.git/objects/4b/\n",
            " extracting: Finalmodel/image-captioning-keras-resnet/.git/objects/4b/260b2496aa3695f1dc4431e7f447b2d2b82139  \n",
            "   creating: Finalmodel/image-captioning-keras-resnet/.git/objects/51/\n",
            " extracting: Finalmodel/image-captioning-keras-resnet/.git/objects/51/e528e36af3d270d51bc680b203786629df062d  \n",
            "   creating: Finalmodel/image-captioning-keras-resnet/.git/objects/53/\n",
            " extracting: Finalmodel/image-captioning-keras-resnet/.git/objects/53/6285fd6b9c038d8f7e3245828c27dcf52e59ed  \n",
            "   creating: Finalmodel/image-captioning-keras-resnet/.git/objects/5a/\n",
            " extracting: Finalmodel/image-captioning-keras-resnet/.git/objects/5a/fffce8d01ed20e3942d5af04e964188aa80eb3  \n",
            "   creating: Finalmodel/image-captioning-keras-resnet/.git/objects/61/\n",
            " extracting: Finalmodel/image-captioning-keras-resnet/.git/objects/61/9b184b90c8ca8cd87ecb7d693ab6ef0c770061  \n",
            "   creating: Finalmodel/image-captioning-keras-resnet/.git/objects/8c/\n",
            " extracting: Finalmodel/image-captioning-keras-resnet/.git/objects/8c/25f24386d264db05961808614ac7f441e483fa  \n",
            "   creating: Finalmodel/image-captioning-keras-resnet/.git/objects/a4/\n",
            " extracting: Finalmodel/image-captioning-keras-resnet/.git/objects/a4/679632afe09819c46f25e62a5c9e41a37d922c  \n",
            "   creating: Finalmodel/image-captioning-keras-resnet/.git/objects/af/\n",
            " extracting: Finalmodel/image-captioning-keras-resnet/.git/objects/af/6b616c3d2d7b1051bc09612b7637f5ae58e02a  \n",
            "   creating: Finalmodel/image-captioning-keras-resnet/.git/objects/bf/\n",
            " extracting: Finalmodel/image-captioning-keras-resnet/.git/objects/bf/e327f29d327a864519b4579bc026fb8898efea  \n",
            "   creating: Finalmodel/image-captioning-keras-resnet/.git/objects/c9/\n",
            " extracting: Finalmodel/image-captioning-keras-resnet/.git/objects/c9/b8c56eec01799b36391af07207facf45f60ba2  \n",
            "   creating: Finalmodel/image-captioning-keras-resnet/.git/objects/cb/\n",
            " extracting: Finalmodel/image-captioning-keras-resnet/.git/objects/cb/3e7e834d43e3c13b87822ae9e9726892139c29  \n",
            "   creating: Finalmodel/image-captioning-keras-resnet/.git/objects/d8/\n",
            " extracting: Finalmodel/image-captioning-keras-resnet/.git/objects/d8/eed9f10b6666c82470f64e3111a9e0a78eed00  \n",
            "   creating: Finalmodel/image-captioning-keras-resnet/.git/objects/eb/\n",
            " extracting: Finalmodel/image-captioning-keras-resnet/.git/objects/eb/970bb6c817ee0c56c6fbea95e0aca91d17bd91  \n",
            "   creating: Finalmodel/image-captioning-keras-resnet/.git/objects/f3/\n",
            " extracting: Finalmodel/image-captioning-keras-resnet/.git/objects/f3/450f11b5e9a6107ff733a2df967810c537914c  \n",
            "   creating: Finalmodel/image-captioning-keras-resnet/.git/objects/f4/\n",
            " extracting: Finalmodel/image-captioning-keras-resnet/.git/objects/f4/1fdf4d3eb6a37ed913fb000a0972f274376a64  \n",
            "   creating: Finalmodel/image-captioning-keras-resnet/.git/objects/fe/\n",
            " extracting: Finalmodel/image-captioning-keras-resnet/.git/objects/fe/6a07f49da98de1e2db953666126a4a8c701043  \n",
            " extracting: Finalmodel/image-captioning-keras-resnet/.git/objects/fe/8651683a300b38697ca1e0936e77c91e73b4f0  \n",
            "   creating: Finalmodel/image-captioning-keras-resnet/.git/objects/ff/\n",
            " extracting: Finalmodel/image-captioning-keras-resnet/.git/objects/ff/840c2740b429f3cd5a24d75c52d153f05d8edc  \n",
            " extracting: Finalmodel/image-captioning-keras-resnet/.git/objects/ff/9474ae9bb49f893e58d89cca3aa5d219331c8f  \n",
            "   creating: Finalmodel/image-captioning-keras-resnet/.git/objects/info/\n",
            "   creating: Finalmodel/image-captioning-keras-resnet/.git/objects/pack/\n",
            "  inflating: Finalmodel/image-captioning-keras-resnet/.git/packed-refs  \n",
            "   creating: Finalmodel/image-captioning-keras-resnet/.git/refs/\n",
            "   creating: Finalmodel/image-captioning-keras-resnet/.git/refs/heads/\n",
            " extracting: Finalmodel/image-captioning-keras-resnet/.git/refs/heads/main  \n",
            "   creating: Finalmodel/image-captioning-keras-resnet/.git/refs/remotes/\n",
            "   creating: Finalmodel/image-captioning-keras-resnet/.git/refs/remotes/origin/\n",
            " extracting: Finalmodel/image-captioning-keras-resnet/.git/refs/remotes/origin/HEAD  \n",
            "   creating: Finalmodel/image-captioning-keras-resnet/.git/refs/tags/\n",
            "  inflating: Finalmodel/image-captioning-keras-resnet/app.py  \n",
            "  inflating: Finalmodel/image-captioning-keras-resnet/create_model_vocabulary.ipynb  \n",
            "  inflating: Finalmodel/image-captioning-keras-resnet/LICENSE  \n",
            "  inflating: Finalmodel/image-captioning-keras-resnet/mine_model_weights.h5  \n",
            "  inflating: Finalmodel/image-captioning-keras-resnet/model.h5  \n",
            "  inflating: Finalmodel/image-captioning-keras-resnet/non_interactive.py  \n",
            "  inflating: Finalmodel/image-captioning-keras-resnet/README.md  \n",
            "   creating: Finalmodel/image-captioning-keras-resnet/static/\n",
            "  inflating: Finalmodel/image-captioning-keras-resnet/static/file.jpg  \n",
            "   creating: Finalmodel/image-captioning-keras-resnet/templates/\n",
            "  inflating: Finalmodel/image-captioning-keras-resnet/templates/after.html  \n",
            "  inflating: Finalmodel/image-captioning-keras-resnet/templates/base.html  \n",
            "  inflating: Finalmodel/image-captioning-keras-resnet/templates/index.html  \n",
            "  inflating: Finalmodel/image-captioning-keras-resnet/vocab.npy  \n"
          ],
          "name": "stdout"
        }
      ]
    },
    {
      "cell_type": "code",
      "metadata": {
        "colab": {
          "base_uri": "https://localhost:8080/"
        },
        "id": "uM4Wn83nv_OR",
        "outputId": "37a53ca4-95d0-4f27-ecbf-d32f05e6e537"
      },
      "source": [
        "!cd /content/image-captioning-keras-resnet"
      ],
      "execution_count": null,
      "outputs": [
        {
          "output_type": "stream",
          "text": [
            "/bin/bash: line 0: cd: /content/image-captioning-keras-resnet: No such file or directory\n"
          ],
          "name": "stdout"
        }
      ]
    },
    {
      "cell_type": "code",
      "metadata": {
        "colab": {
          "base_uri": "https://localhost:8080/"
        },
        "id": "0s4_uznxxoXF",
        "outputId": "d25d8e23-772e-4305-bee5-f06003ef2736"
      },
      "source": [
        "!pip install flask-ngrok"
      ],
      "execution_count": null,
      "outputs": [
        {
          "output_type": "stream",
          "text": [
            "Collecting flask-ngrok\n",
            "  Downloading flask_ngrok-0.0.25-py3-none-any.whl (3.1 kB)\n",
            "Requirement already satisfied: requests in /usr/local/lib/python3.7/dist-packages (from flask-ngrok) (2.23.0)\n",
            "Requirement already satisfied: Flask>=0.8 in /usr/local/lib/python3.7/dist-packages (from flask-ngrok) (1.1.4)\n",
            "Requirement already satisfied: Werkzeug<2.0,>=0.15 in /usr/local/lib/python3.7/dist-packages (from Flask>=0.8->flask-ngrok) (1.0.1)\n",
            "Requirement already satisfied: click<8.0,>=5.1 in /usr/local/lib/python3.7/dist-packages (from Flask>=0.8->flask-ngrok) (7.1.2)\n",
            "Requirement already satisfied: itsdangerous<2.0,>=0.24 in /usr/local/lib/python3.7/dist-packages (from Flask>=0.8->flask-ngrok) (1.1.0)\n",
            "Requirement already satisfied: Jinja2<3.0,>=2.10.1 in /usr/local/lib/python3.7/dist-packages (from Flask>=0.8->flask-ngrok) (2.11.3)\n",
            "Requirement already satisfied: MarkupSafe>=0.23 in /usr/local/lib/python3.7/dist-packages (from Jinja2<3.0,>=2.10.1->Flask>=0.8->flask-ngrok) (2.0.1)\n",
            "Requirement already satisfied: idna<3,>=2.5 in /usr/local/lib/python3.7/dist-packages (from requests->flask-ngrok) (2.10)\n",
            "Requirement already satisfied: urllib3!=1.25.0,!=1.25.1,<1.26,>=1.21.1 in /usr/local/lib/python3.7/dist-packages (from requests->flask-ngrok) (1.24.3)\n",
            "Requirement already satisfied: chardet<4,>=3.0.2 in /usr/local/lib/python3.7/dist-packages (from requests->flask-ngrok) (3.0.4)\n",
            "Requirement already satisfied: certifi>=2017.4.17 in /usr/local/lib/python3.7/dist-packages (from requests->flask-ngrok) (2021.5.30)\n",
            "Installing collected packages: flask-ngrok\n",
            "Successfully installed flask-ngrok-0.0.25\n"
          ],
          "name": "stdout"
        }
      ]
    },
    {
      "cell_type": "code",
      "metadata": {
        "colab": {
          "base_uri": "https://localhost:8080/"
        },
        "id": "GgzfTmA70tyJ",
        "outputId": "0ac72d82-0b56-47fd-8363-a13ad58ef3d8"
      },
      "source": [
        "!pip install PyDictionary"
      ],
      "execution_count": null,
      "outputs": [
        {
          "output_type": "stream",
          "text": [
            "Collecting PyDictionary\n",
            "  Downloading PyDictionary-2.0.1-py3-none-any.whl (6.1 kB)\n",
            "Requirement already satisfied: click in /usr/local/lib/python3.7/dist-packages (from PyDictionary) (7.1.2)\n",
            "Collecting goslate\n",
            "  Downloading goslate-1.5.1.tar.gz (17 kB)\n",
            "Requirement already satisfied: requests in /usr/local/lib/python3.7/dist-packages (from PyDictionary) (2.23.0)\n",
            "Requirement already satisfied: bs4 in /usr/local/lib/python3.7/dist-packages (from PyDictionary) (0.0.1)\n",
            "Requirement already satisfied: beautifulsoup4 in /usr/local/lib/python3.7/dist-packages (from bs4->PyDictionary) (4.6.3)\n",
            "Collecting futures\n",
            "  Downloading futures-3.1.1-py3-none-any.whl (2.8 kB)\n",
            "Requirement already satisfied: urllib3!=1.25.0,!=1.25.1,<1.26,>=1.21.1 in /usr/local/lib/python3.7/dist-packages (from requests->PyDictionary) (1.24.3)\n",
            "Requirement already satisfied: chardet<4,>=3.0.2 in /usr/local/lib/python3.7/dist-packages (from requests->PyDictionary) (3.0.4)\n",
            "Requirement already satisfied: idna<3,>=2.5 in /usr/local/lib/python3.7/dist-packages (from requests->PyDictionary) (2.10)\n",
            "Requirement already satisfied: certifi>=2017.4.17 in /usr/local/lib/python3.7/dist-packages (from requests->PyDictionary) (2021.5.30)\n",
            "Building wheels for collected packages: goslate\n",
            "  Building wheel for goslate (setup.py) ... \u001b[?25l\u001b[?25hdone\n",
            "  Created wheel for goslate: filename=goslate-1.5.1-py3-none-any.whl size=11411 sha256=d6a457b45d2b8dfd91ab1c93addd79c0e963216446ed6f84bc48daafdc36acad\n",
            "  Stored in directory: /root/.cache/pip/wheels/16/5c/86/f561bb944dc9f853f9502427bde8fe557a6fafe146d4a432f2\n",
            "Successfully built goslate\n",
            "Installing collected packages: futures, goslate, PyDictionary\n",
            "Successfully installed PyDictionary-2.0.1 futures-3.1.1 goslate-1.5.1\n"
          ],
          "name": "stdout"
        }
      ]
    },
    {
      "cell_type": "code",
      "metadata": {
        "colab": {
          "base_uri": "https://localhost:8080/"
        },
        "id": "BRxHTTN3wfCf",
        "outputId": "90985f5c-dc97-421a-f6b6-41aeb22f7c56"
      },
      "source": [
        "from flask import Flask, render_template, request\n",
        "import tensorflow as tf\n",
        "import cv2\n",
        "from keras.models import load_model\n",
        "import numpy as np\n",
        "from keras.applications.resnet import ResNet50\n",
        "from keras.optimizers import Adam\n",
        "from keras.layers import Dense, Flatten,Input, Convolution2D, Dropout, LSTM, TimeDistributed, Embedding, Bidirectional, Activation, RepeatVector,Concatenate\n",
        "from keras.models import Sequential, Model\n",
        "from keras.utils import np_utils\n",
        "from keras.preprocessing import image, sequence\n",
        "import cv2\n",
        "from keras.preprocessing.sequence import pad_sequences\n",
        "from tqdm import tqdm\n",
        "from flask_ngrok import run_with_ngrok\n",
        "import nltk\n",
        "from nltk.corpus import wordnet\n",
        "nltk.download('stopwords')\n",
        "nltk.download('wordnet')\n",
        "from nltk.corpus import stopwords\n",
        "from nltk.corpus import wordnet\n",
        "import string\n",
        "import re\n",
        "\n",
        "\n",
        "vocab = np.load('/content/Finalmodel/image-captioning-keras-resnet/vocab.npy', allow_pickle=True)\n",
        "\n",
        "vocab = vocab.item()\n",
        "\n",
        "inv_vocab = {v:k for k,v in vocab.items()}\n",
        "\n",
        "\n",
        "print(\"+\"*50)\n",
        "print(\"vocabulary loaded\")\n",
        "\n",
        "\n",
        "embedding_size = 128\n",
        "vocab_size = len(vocab)\n",
        "max_len = 40\n",
        "\n",
        "\n",
        "image_model = Sequential()\n",
        "\n",
        "image_model.add(Dense(embedding_size, input_shape=(2048,), activation='relu'))\n",
        "image_model.add(RepeatVector(max_len))\n",
        "\n",
        "\n",
        "language_model = Sequential()\n",
        "\n",
        "language_model.add(Embedding(input_dim=vocab_size, output_dim=embedding_size, input_length=max_len))\n",
        "language_model.add(LSTM(256, return_sequences=True))\n",
        "language_model.add(TimeDistributed(Dense(embedding_size)))\n",
        "\n",
        "\n",
        "conca = Concatenate()([image_model.output, language_model.output])\n",
        "x = LSTM(128, return_sequences=True)(conca)\n",
        "x = LSTM(512, return_sequences=False)(x)\n",
        "x = Dense(vocab_size)(x)\n",
        "out = Activation('softmax')(x)\n",
        "model = Model(inputs=[image_model.input, language_model.input], outputs = out)\n",
        "\n",
        "model.compile(loss='categorical_crossentropy', optimizer='RMSprop', metrics=['accuracy'])\n",
        "\n",
        "model.load_weights('/content/Finalmodel/image-captioning-keras-resnet/mine_model_weights.h5')\n",
        "\n",
        "print(\"=\"*150)\n",
        "print(\"MODEL LOADED\")\n",
        "\n",
        "resnet = ResNet50(include_top=False,weights='imagenet',input_shape=(224,224,3),pooling='avg')\n",
        "\n",
        "\n",
        "#resnet = load_model('/content/image-captioning-keras-resnet/model.h5')\n",
        "\n",
        "print(\"=\"*150)\n",
        "print(\"RESNET MODEL LOADED\")\n",
        "\n",
        "\n",
        "\n",
        "\n",
        "app = Flask(__name__,template_folder=\"/content/Finalmodel/image-captioning-keras-resnet/templates\",static_url_path='/content/Finalmodel/image-captioning-keras-resnet/static')\n",
        "run_with_ngrok(app)\n",
        "\n",
        "app.config['SEND_FILE_MAX_AGE_DEFAULT'] = 1\n",
        "\n",
        "\n",
        "@app.route('/')\n",
        "def index():\n",
        "    return render_template('index.html')\n",
        "\n",
        "@app.route('/after', methods=['GET', 'POST'])\n",
        "def after():\n",
        "\n",
        "    global model, resnet, vocab, inv_vocab\n",
        "\n",
        "    img = request.files['file1']\n",
        "\n",
        "    img.save('/content/Finalmodel/image-captioning-keras-resnet/static/file.jpg')\n",
        "\n",
        "    print(\"=\"*50)\n",
        "    print(\"IMAGE SAVED\")\n",
        "\n",
        "\n",
        "    \n",
        "    image = cv2.imread('/content/Finalmodel/image-captioning-keras-resnet/static/file.jpg')\n",
        "    image = cv2.cvtColor(image, cv2.COLOR_BGR2RGB)\n",
        "\n",
        "    image = cv2.resize(image, (224,224))\n",
        "\n",
        "    image = np.reshape(image, (1,224,224,3))\n",
        "\n",
        "    \n",
        "    \n",
        "    incept = resnet.predict(image).reshape(1,2048)\n",
        "\n",
        "    print(\"=\"*50)\n",
        "    print(\"Predict Features\")\n",
        "\n",
        "\n",
        "    text_in = ['startofseq']\n",
        "\n",
        "    final = ''\n",
        "\n",
        "    print(\"=\"*50)\n",
        "    print(\"GETING Captions\")\n",
        "\n",
        "    count = 0\n",
        "    while tqdm(count < 20):\n",
        "\n",
        "        count += 1\n",
        "\n",
        "        encoded = []\n",
        "        for i in text_in:\n",
        "            encoded.append(vocab[i])\n",
        "\n",
        "        padded = pad_sequences([encoded], maxlen=max_len, padding='post', truncating='post').reshape(1,max_len)\n",
        "\n",
        "        sampled_index = np.argmax(model.predict([incept, padded]))\n",
        "\n",
        "        sampled_word = inv_vocab[sampled_index]\n",
        "\n",
        "        if sampled_word != 'endofseq':\n",
        "            final = final + ' ' + sampled_word\n",
        "\n",
        "        text_in.append(sampled_word)\n",
        "    new_list=[]\n",
        "    new_string=''\n",
        "    meaning=[]\n",
        "    nopunc = re.sub(r'[^\\w\\s]','', final) \n",
        "    final=[word for word in nopunc.split() if word.lower() not in stopwords.words('english')]\n",
        "    for word in final:\n",
        "        new_list.append('#' + word)\n",
        "        for synset in wordnet.synsets(word):\n",
        "          for lemma in synset.lemmas():\n",
        "              new_list.append('#' + lemma.name())\n",
        "              \n",
        "    new_string =' \\n'.join(set(new_list))\n",
        "    print(final)\n",
        "    print(new_string) \n",
        "\n",
        "\n",
        "    return render_template('after.html', data=new_string)\n",
        "\n",
        "if __name__ == \"__main__\":\n",
        "    app.run()\n"
      ],
      "execution_count": 17,
      "outputs": [
        {
          "output_type": "stream",
          "text": [
            "[nltk_data] Downloading package stopwords to /root/nltk_data...\n",
            "[nltk_data]   Package stopwords is already up-to-date!\n",
            "[nltk_data] Downloading package wordnet to /root/nltk_data...\n",
            "[nltk_data]   Package wordnet is already up-to-date!\n",
            "++++++++++++++++++++++++++++++++++++++++++++++++++\n",
            "vocabulary loaded\n",
            "======================================================================================================================================================\n",
            "MODEL LOADED\n",
            "======================================================================================================================================================\n",
            "RESNET MODEL LOADED\n",
            " * Serving Flask app \"__main__\" (lazy loading)\n",
            " * Environment: production\n",
            "\u001b[31m   WARNING: This is a development server. Do not use it in a production deployment.\u001b[0m\n",
            "\u001b[2m   Use a production WSGI server instead.\u001b[0m\n",
            " * Debug mode: off\n"
          ],
          "name": "stdout"
        },
        {
          "output_type": "stream",
          "text": [
            " * Running on http://127.0.0.1:5000/ (Press CTRL+C to quit)\n"
          ],
          "name": "stderr"
        },
        {
          "output_type": "stream",
          "text": [
            " * Running on http://20f792f1f534.ngrok.io\n",
            " * Traffic stats available on http://127.0.0.1:4040\n"
          ],
          "name": "stdout"
        },
        {
          "output_type": "stream",
          "text": [
            "127.0.0.1 - - [07/Aug/2021 18:20:41] \"\u001b[37mGET / HTTP/1.1\u001b[0m\" 200 -\n",
            "127.0.0.1 - - [07/Aug/2021 18:20:42] \"\u001b[33mGET /content/Finalmodel/image-captioning-keras-resnet/static/styles.css HTTP/1.1\u001b[0m\" 404 -\n",
            "127.0.0.1 - - [07/Aug/2021 18:20:42] \"\u001b[33mGET /favicon.ico HTTP/1.1\u001b[0m\" 404 -\n",
            "127.0.0.1 - - [07/Aug/2021 18:20:43] \"\u001b[37mGET / HTTP/1.1\u001b[0m\" 200 -\n",
            "127.0.0.1 - - [07/Aug/2021 18:20:44] \"\u001b[33mGET /content/Finalmodel/image-captioning-keras-resnet/static/styles.css HTTP/1.1\u001b[0m\" 404 -\n",
            "127.0.0.1 - - [07/Aug/2021 18:20:48] \"\u001b[31m\u001b[1mGET /after HTTP/1.1\u001b[0m\" 400 -\n"
          ],
          "name": "stderr"
        },
        {
          "output_type": "stream",
          "text": [
            "==================================================\n",
            "IMAGE SAVED\n"
          ],
          "name": "stdout"
        },
        {
          "output_type": "stream",
          "text": [
            "0it [00:00, ?it/s]"
          ],
          "name": "stderr"
        },
        {
          "output_type": "stream",
          "text": [
            "==================================================\n",
            "Predict Features\n",
            "==================================================\n",
            "GETING Captions\n"
          ],
          "name": "stdout"
        },
        {
          "output_type": "stream",
          "text": [
            "\n",
            "0it [00:00, ?it/s]\n",
            "0it [00:00, ?it/s]\n",
            "0it [00:00, ?it/s]\n",
            "0it [00:00, ?it/s]\n",
            "0it [00:00, ?it/s]\n",
            "0it [00:00, ?it/s]\n",
            "0it [00:00, ?it/s]\n",
            "0it [00:00, ?it/s]\n",
            "0it [00:00, ?it/s]\n",
            "0it [00:00, ?it/s]\n",
            "0it [00:00, ?it/s]\n",
            "0it [00:00, ?it/s]\n",
            "0it [00:00, ?it/s]\n",
            "0it [00:00, ?it/s]\n",
            "0it [00:00, ?it/s]\n",
            "0it [00:00, ?it/s]\n",
            "0it [00:00, ?it/s]\n",
            "0it [00:00, ?it/s]\n",
            "0it [00:00, ?it/s]\n",
            "0it [00:00, ?it/s]\n",
            "127.0.0.1 - - [07/Aug/2021 18:20:56] \"\u001b[37mPOST /after HTTP/1.1\u001b[0m\" 200 -\n"
          ],
          "name": "stderr"
        },
        {
          "output_type": "stream",
          "text": [
            "['group', 'greyhounds', 'busy', 'urban', 'street', 'like', 'something']\n",
            "#the_likes_of \n",
            "#in_use \n",
            "#greyhound \n",
            "#busybodied \n",
            "#street \n",
            "#group \n",
            "#busy \n",
            "#greyhounds \n",
            "#something \n",
            "#corresponding \n",
            "#ilk \n",
            "#meddlesome \n",
            "#urban \n",
            "#like \n",
            "#same \n",
            "#engaged \n",
            "#care \n",
            "#radical \n",
            "#aggroup \n",
            "#grouping \n",
            "#similar \n",
            "#fussy \n",
            "#the_like \n",
            "#chemical_group \n",
            "#comparable \n",
            "#alike \n",
            "#officious \n",
            "#meddling \n",
            "#interfering \n",
            "#occupy \n",
            "#wish \n",
            "#mathematical_group\n"
          ],
          "name": "stdout"
        },
        {
          "output_type": "stream",
          "text": [
            "127.0.0.1 - - [07/Aug/2021 18:20:56] \"\u001b[33mGET /content/Finalmodel/image-captioning-keras-resnet/static/styles.css HTTP/1.1\u001b[0m\" 404 -\n"
          ],
          "name": "stderr"
        }
      ]
    },
    {
      "cell_type": "code",
      "metadata": {
        "id": "osos04iikMxl"
      },
      "source": [
        ""
      ],
      "execution_count": null,
      "outputs": []
    }
  ]
}